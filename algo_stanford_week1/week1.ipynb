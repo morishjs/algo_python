{
 "cells": [
  {
   "cell_type": "code",
   "execution_count": 2,
   "metadata": {
    "collapsed": true
   },
   "outputs": [],
   "source": [
    "# Karatsuba algo\n",
    "a = 1234\n",
    "b = 1234"
   ]
  },
  {
   "cell_type": "code",
   "execution_count": 12,
   "metadata": {
    "collapsed": false
   },
   "outputs": [],
   "source": [
    "def karatsuba(a, b):\n",
    "    a_str = str(a)\n",
    "    b_str = str(b)\n",
    "\n",
    "    a_len = a_str.__len__()\n",
    "    b_len = b_str.__len__()\n",
    "\n",
    "    if a_len < 3 or b_len < 3: return a * b\n",
    "\n",
    "    m = max([a_len, b_len])\n",
    "    m2 = int(m / 2)\n",
    "    \n",
    "    high1 = int(a_str[0:m2])\n",
    "    high2 = int(b_str[0:m2])\n",
    "    low1 = int(a_str[m2:])\n",
    "    low2 = int(b_str[m2:])\n",
    "\n",
    "    z0 = karatsuba(low1, low2)\n",
    "    z1 = karatsuba((low1 + high1), (low2 + high2))\n",
    "    z2 = karatsuba(high1, high2)\n",
    "    \n",
    "    print(f\"z0: {z0}\")\n",
    "    print(f\"z1: {z1}\")\n",
    "    print(f\"z2: {z2}\")\n",
    "    \n",
    "    print(f\"m: {m}\")\n",
    "    print(f\"m2: {m2}\")\n",
    "    \n",
    "    return z2 * (10 ** m) + (z1- z2 - z0) * (10 ** m2) + z0\n"
   ]
  },
  {
   "cell_type": "code",
   "execution_count": 13,
   "metadata": {},
   "outputs": [
    {
     "name": "stdout",
     "output_type": "stream",
     "text": [
      "z0: 1156\nz1: 2116\nz2: 144\nm: 4\nm2: 2\n"
     ]
    },
    {
     "data": {
      "text/plain": [
       "1522756"
      ]
     },
     "execution_count": 13,
     "metadata": {},
     "output_type": "execute_result"
    }
   ],
   "source": [
    "karatsuba(a, b)"
   ]
  },
  {
   "cell_type": "code",
   "execution_count": 5,
   "metadata": {},
   "outputs": [
    {
     "data": {
      "text/plain": [
       "1522756"
      ]
     },
     "execution_count": 5,
     "metadata": {},
     "output_type": "execute_result"
    }
   ],
   "source": [
    "a * b"
   ]
  }
 ],
 "metadata": {
  "kernelspec": {
   "display_name": "Python 2",
   "language": "python",
   "name": "python2"
  },
  "language_info": {
   "codemirror_mode": {
    "name": "ipython",
    "version": 2
   },
   "file_extension": ".py",
   "mimetype": "text/x-python",
   "name": "python",
   "nbconvert_exporter": "python",
   "pygments_lexer": "ipython2",
   "version": "2.7.6"
  }
 },
 "nbformat": 4,
 "nbformat_minor": 0
}
